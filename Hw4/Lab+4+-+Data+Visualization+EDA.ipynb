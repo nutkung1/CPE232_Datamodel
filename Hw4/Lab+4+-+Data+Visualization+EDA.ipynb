{
 "cells": [
  {
   "cell_type": "markdown",
   "metadata": {},
   "source": [
    "# Lab 4: Data Visualization and EDA"
   ]
  },
  {
   "cell_type": "markdown",
   "metadata": {},
   "source": [
    "Objectives:\n",
    "- To gain practice in creating various data visualizations\n",
    "- To encourage students to perform EDA on the required dataset"
   ]
  },
  {
   "cell_type": "markdown",
   "metadata": {},
   "source": [
    "***"
   ]
  },
  {
   "cell_type": "markdown",
   "metadata": {},
   "source": [
    "1. Load all Superstore datasets.\n",
    "\n",
    "*Note: The same dataset used in Lab 3*"
   ]
  },
  {
   "cell_type": "code",
   "execution_count": null,
   "metadata": {},
   "outputs": [],
   "source": [
    "# Write your code here"
   ]
  },
  {
   "cell_type": "markdown",
   "metadata": {},
   "source": [
    "2. Determine shape of each dataset (print out the results as well)."
   ]
  },
  {
   "cell_type": "code",
   "execution_count": null,
   "metadata": {},
   "outputs": [],
   "source": [
    "# Write your code here"
   ]
  },
  {
   "cell_type": "markdown",
   "metadata": {},
   "source": [
    "3. Show information of the dataset.\n"
   ]
  },
  {
   "cell_type": "code",
   "execution_count": null,
   "metadata": {},
   "outputs": [],
   "source": [
    "# Write your code here (3.1)"
   ]
  },
  {
   "cell_type": "markdown",
   "metadata": {},
   "source": [
    "4. Are there any missing values? If so, in which column?\n",
    "\n",
    "Ans: ________________________"
   ]
  },
  {
   "cell_type": "markdown",
   "metadata": {},
   "source": [
    "5. \n",
    "- 5.1 List unique segments\n",
    "- 5.2 List unique segments and their corresponding count\n",
    "- 5.3 Create a pie chart to demonstrate unique segments and their count\n",
    "- 5.4 Briefly describe what could be interpreted from this pie chart\n",
    "\n",
    "*Note: please create additional cells to answer 5.2 - 5.3*"
   ]
  },
  {
   "cell_type": "code",
   "execution_count": null,
   "metadata": {},
   "outputs": [],
   "source": [
    "# Write your code here (5.1)"
   ]
  },
  {
   "cell_type": "markdown",
   "metadata": {},
   "source": [
    "Answer for the question 5.4\n",
    "\n",
    "Ans: ________________________"
   ]
  },
  {
   "cell_type": "markdown",
   "metadata": {},
   "source": [
    "6. \n",
    "- 6.1 List unique states\n",
    "- 6.2 List top-10 unique states and their corresponding count\n",
    "- 6.3 Create a bar chart (vertical) to demonstrate the count of top-10 unique states\n",
    "- 6.4 Based on 6.2, also include the total sales of these states (show your result as a dataframe)\n",
    "- 6.5 Using the result from 6.4, if you were the owner of this superstore, what information could be interpreted from this result?\n",
    "\n",
    "*Note: please create additional cells to answer 6.2 - 6.4*"
   ]
  },
  {
   "cell_type": "code",
   "execution_count": null,
   "metadata": {},
   "outputs": [],
   "source": [
    "# Write your code here (6.1)"
   ]
  },
  {
   "cell_type": "markdown",
   "metadata": {},
   "source": [
    "Answer for the question 6.5\n",
    "\n",
    "Ans: ________________________"
   ]
  },
  {
   "cell_type": "markdown",
   "metadata": {},
   "source": [
    "7. \n",
    "- 7.1 List unique categories\n",
    "- 7.2 Create a bar chart (horizontal) to demonstrate the proportion of these categories\n",
    "- 7.3 Compute the ratio of these categories in percentage and print the results\n",
    "\n",
    "*Note: please create additional cells to answer 7.2 - 7.3*"
   ]
  },
  {
   "cell_type": "code",
   "execution_count": null,
   "metadata": {},
   "outputs": [],
   "source": [
    "# Write your code here (7.1)"
   ]
  },
  {
   "cell_type": "markdown",
   "metadata": {},
   "source": [
    "8. Update the type of all columns that contain dates to *datetime* and show information after an update."
   ]
  },
  {
   "cell_type": "code",
   "execution_count": null,
   "metadata": {},
   "outputs": [],
   "source": [
    "# write your code here"
   ]
  },
  {
   "cell_type": "markdown",
   "metadata": {},
   "source": [
    "9. Create a new column \"Processing time day\" to show number of days taken to ship an order and show your result in a dataframe format.\n",
    "\n",
    "*Hint: The duration starts as soon as the item has been ordered and ends once the order has successfully shipped.*"
   ]
  },
  {
   "cell_type": "code",
   "execution_count": null,
   "metadata": {},
   "outputs": [],
   "source": [
    "# write your code here"
   ]
  },
  {
   "cell_type": "markdown",
   "metadata": {},
   "source": [
    "10. Based on the result in 9.\n",
    "- 10.1 How many orders are there that take more than 5 days to process?\n",
    "- 10.2 Show the top 5 rows (expected output should contain these columns: Order ID, Order Date, Ship Date, Processing time day, Quantity)\n",
    "- 10.3 Plot the histogram based on the column Quantity\n",
    "\n",
    "*Note: please create additional cells to answer 10.2 - 10.3*"
   ]
  },
  {
   "cell_type": "code",
   "execution_count": null,
   "metadata": {},
   "outputs": [],
   "source": [
    "# Write your code here (10.1)"
   ]
  },
  {
   "cell_type": "markdown",
   "metadata": {},
   "source": [
    "[BONUS 20 pts] Determine the percentage of customers who: \n",
    "- B1)returned the product once\n",
    "- B2) returned the product at least once\n",
    "- B3) never returned the product\n",
    "- Finally, Plot a comparison of B2 and B3\n",
    "\n",
    "*Note: please create additional cells to answer the above points*"
   ]
  },
  {
   "cell_type": "code",
   "execution_count": null,
   "metadata": {},
   "outputs": [],
   "source": [
    "# Write your code here "
   ]
  }
 ],
 "metadata": {
  "kernelspec": {
   "display_name": "Python 3.11.1 64-bit",
   "language": "python",
   "name": "python3"
  },
  "language_info": {
   "name": "python",
   "version": "3.11.1"
  },
  "orig_nbformat": 4,
  "vscode": {
   "interpreter": {
    "hash": "aee8b7b246df8f9039afb4144a1f6fd8d2ca17a180786b69acc140d282b71a49"
   }
  }
 },
 "nbformat": 4,
 "nbformat_minor": 2
}
