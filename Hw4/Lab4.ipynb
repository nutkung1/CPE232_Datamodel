{
  "cells": [
    {
      "cell_type": "markdown",
      "metadata": {
        "id": "e_o-VQwzlsOR"
      },
      "source": [
        "# Lab 4: Data Visualization and EDA"
      ]
    },
    {
      "cell_type": "markdown",
      "metadata": {
        "id": "2nxzRWKxlsOT"
      },
      "source": [
        "Objectives:\n",
        "- To gain practice in creating various data visualizations\n",
        "- To encourage students to perform EDA on the required dataset"
      ]
    },
    {
      "cell_type": "markdown",
      "metadata": {
        "id": "uLf4Dv5IlsOT"
      },
      "source": [
        "***"
      ]
    },
    {
      "cell_type": "markdown",
      "metadata": {
        "id": "lqC_zOfelsOT"
      },
      "source": [
        "1. Load all Superstore datasets.\n",
        "\n",
        "*Note: The same dataset used in Lab 3*"
      ]
    },
    {
      "cell_type": "code",
      "execution_count": 119,
      "metadata": {
        "id": "1_ZnCcecmFxB"
      },
      "outputs": [],
      "source": [
        "# !unzip /content/Superstore.zip"
      ]
    },
    {
      "cell_type": "code",
      "execution_count": 120,
      "metadata": {
        "id": "EwJlhAYVmSkz"
      },
      "outputs": [],
      "source": [
        "import pandas as pd\n",
        "import numpy as np\n",
        "import matplotlib.pyplot as plt"
      ]
    },
    {
      "cell_type": "code",
      "execution_count": 121,
      "metadata": {
        "id": "mQ4oarCllsOT"
      },
      "outputs": [],
      "source": [
        "# Write your code here\n",
        "superstore_order = pd.read_csv(\"/content/Superstore/superstore_order.csv\")\n",
        "superstore_people = pd.read_csv(\"/content/Superstore/superstore_people.csv\")\n",
        "superstore_return = pd.read_csv(\"/content/Superstore/superstore_return.csv\")"
      ]
    },
    {
      "cell_type": "markdown",
      "metadata": {
        "id": "7JO5GObdlsOU"
      },
      "source": [
        "2. Determine shape of each dataset (print out the results as well)."
      ]
    },
    {
      "cell_type": "code",
      "execution_count": 122,
      "metadata": {
        "colab": {
          "base_uri": "https://localhost:8080/"
        },
        "id": "sQo-MfBplsOU",
        "outputId": "5a166fdb-2110-4220-83f9-8b269039a25b"
      },
      "outputs": [
        {
          "output_type": "stream",
          "name": "stdout",
          "text": [
            "(8880, 21)\n",
            "(4, 2)\n",
            "(296, 2)\n"
          ]
        }
      ],
      "source": [
        "# Write your code here\n",
        "print(superstore_order.shape)\n",
        "print(superstore_people.shape)\n",
        "print(superstore_return.shape)"
      ]
    },
    {
      "cell_type": "markdown",
      "metadata": {
        "id": "eFe1jDtjlsOU"
      },
      "source": [
        "3. Show information of the dataset.\n"
      ]
    },
    {
      "cell_type": "code",
      "execution_count": 123,
      "metadata": {
        "colab": {
          "base_uri": "https://localhost:8080/"
        },
        "id": "pjWuiV5uoXgn",
        "outputId": "029f190a-0282-4a97-98d8-cf55a2cba712"
      },
      "outputs": [
        {
          "output_type": "stream",
          "name": "stdout",
          "text": [
            "<class 'pandas.core.frame.DataFrame'>\n",
            "RangeIndex: 8880 entries, 0 to 8879\n",
            "Data columns (total 21 columns):\n",
            " #   Column         Non-Null Count  Dtype  \n",
            "---  ------         --------------  -----  \n",
            " 0   Row ID         8880 non-null   int64  \n",
            " 1   Order ID       8880 non-null   object \n",
            " 2   Order Date     8880 non-null   object \n",
            " 3   Ship Date      8880 non-null   object \n",
            " 4   Ship Mode      8880 non-null   object \n",
            " 5   Customer ID    8880 non-null   object \n",
            " 6   Customer Name  8880 non-null   object \n",
            " 7   Segment        8880 non-null   object \n",
            " 8   Country        8880 non-null   object \n",
            " 9   City           8880 non-null   object \n",
            " 10  State          8880 non-null   object \n",
            " 11  Postal Code    8880 non-null   int64  \n",
            " 12  Region         8880 non-null   object \n",
            " 13  Product ID     8880 non-null   object \n",
            " 14  Category       8880 non-null   object \n",
            " 15  Sub-Category   8880 non-null   object \n",
            " 16  Product Name   8880 non-null   object \n",
            " 17  Sales          8880 non-null   float64\n",
            " 18  Quantity       8880 non-null   int64  \n",
            " 19  Discount       8880 non-null   float64\n",
            " 20  Profit         8880 non-null   float64\n",
            "dtypes: float64(3), int64(3), object(15)\n",
            "memory usage: 1.4+ MB\n",
            "None\n",
            "<class 'pandas.core.frame.DataFrame'>\n",
            "RangeIndex: 4 entries, 0 to 3\n",
            "Data columns (total 2 columns):\n",
            " #   Column  Non-Null Count  Dtype \n",
            "---  ------  --------------  ----- \n",
            " 0   Person  4 non-null      object\n",
            " 1   Region  4 non-null      object\n",
            "dtypes: object(2)\n",
            "memory usage: 192.0+ bytes\n",
            "None\n",
            "<class 'pandas.core.frame.DataFrame'>\n",
            "RangeIndex: 296 entries, 0 to 295\n",
            "Data columns (total 2 columns):\n",
            " #   Column    Non-Null Count  Dtype \n",
            "---  ------    --------------  ----- \n",
            " 0   Returned  296 non-null    object\n",
            " 1   Order ID  296 non-null    object\n",
            "dtypes: object(2)\n",
            "memory usage: 4.8+ KB\n",
            "None\n"
          ]
        }
      ],
      "source": [
        "print(superstore_order.info())\n",
        "print(superstore_people.info())\n",
        "print(superstore_return.info())"
      ]
    },
    {
      "cell_type": "code",
      "execution_count": 124,
      "metadata": {
        "colab": {
          "base_uri": "https://localhost:8080/"
        },
        "id": "tt7phsktlsOU",
        "outputId": "e02eeb42-7020-486f-e601-62c214ea4d42"
      },
      "outputs": [
        {
          "output_type": "stream",
          "name": "stdout",
          "text": [
            "Row ID           0\n",
            "Order ID         0\n",
            "Order Date       0\n",
            "Ship Date        0\n",
            "Ship Mode        0\n",
            "Customer ID      0\n",
            "Customer Name    0\n",
            "Segment          0\n",
            "Country          0\n",
            "City             0\n",
            "State            0\n",
            "Postal Code      0\n",
            "Region           0\n",
            "Product ID       0\n",
            "Category         0\n",
            "Sub-Category     0\n",
            "Product Name     0\n",
            "Sales            0\n",
            "Quantity         0\n",
            "Discount         0\n",
            "Profit           0\n",
            "dtype: int64\n",
            "Person    0\n",
            "Region    0\n",
            "dtype: int64\n",
            "Returned    0\n",
            "Order ID    0\n",
            "dtype: int64\n"
          ]
        }
      ],
      "source": [
        "# Write your code here (3.1)\n",
        "print(superstore_order.isnull().sum())\n",
        "print(superstore_people.isnull().sum())\n",
        "print(superstore_return.isnull().sum())"
      ]
    },
    {
      "cell_type": "markdown",
      "metadata": {
        "id": "IFX5iKaelsOV"
      },
      "source": [
        "4. Are there any missing values? If so, in which column?\n",
        "\n",
        "Ans: There is no missing values in every tables because I use a isnull() method to find any null value but it say 0 for all."
      ]
    },
    {
      "cell_type": "markdown",
      "metadata": {
        "id": "6ZDO7lGOlsOV"
      },
      "source": [
        "5.\n",
        "- 5.1 List unique segments\n",
        "- 5.2 List unique segments and their corresponding count\n",
        "- 5.3 Create a pie chart to demonstrate unique segments and their count\n",
        "- 5.4 Briefly describe what could be interpreted from this pie chart\n",
        "\n",
        "*Note: please create additional cells to answer 5.2 - 5.3*"
      ]
    },
    {
      "cell_type": "code",
      "execution_count": 125,
      "metadata": {
        "colab": {
          "base_uri": "https://localhost:8080/"
        },
        "id": "YcAEB4TGlsOV",
        "outputId": "0c22d367-a490-4898-f95e-b5cc638d8f6e"
      },
      "outputs": [
        {
          "output_type": "execute_result",
          "data": {
            "text/plain": [
              "array(['Consumer', 'Corporate', 'Home Office'], dtype=object)"
            ]
          },
          "metadata": {},
          "execution_count": 125
        }
      ],
      "source": [
        "# Write your code here (5.1)\n",
        "superstore_order[\"Segment\"].unique()"
      ]
    },
    {
      "cell_type": "code",
      "execution_count": 126,
      "metadata": {
        "id": "Rh6iXaLiqD_h",
        "colab": {
          "base_uri": "https://localhost:8080/"
        },
        "outputId": "79664737-d762-4535-9206-ac48abb56023"
      },
      "outputs": [
        {
          "output_type": "stream",
          "name": "stdout",
          "text": [
            "Consumer: 4613, Corporate: 2673, Home Office: 1594\n"
          ]
        }
      ],
      "source": [
        "# Write your code here (5.2)\n",
        "consumer = 0\n",
        "corporate = 0\n",
        "home_office = 0\n",
        "for i in superstore_order[\"Segment\"]:\n",
        "  if i in superstore_order[\"Segment\"].unique():\n",
        "    if i == \"Consumer\":\n",
        "      consumer += 1\n",
        "    elif i == \"Corporate\":\n",
        "      corporate += 1\n",
        "    else:\n",
        "      home_office += 1\n",
        "print(f\"Consumer: {consumer}, Corporate: {corporate}, Home Office: {home_office}\")"
      ]
    },
    {
      "cell_type": "code",
      "execution_count": 127,
      "metadata": {
        "id": "2czSXBJCr28Z",
        "colab": {
          "base_uri": "https://localhost:8080/",
          "height": 406
        },
        "outputId": "f3b0c768-683e-4498-82fd-a9233c998e8f"
      },
      "outputs": [
        {
          "output_type": "display_data",
          "data": {
            "text/plain": [
              "<Figure size 640x480 with 1 Axes>"
            ],
            "image/png": "[encoded data removed]"
          },
          "metadata": {}
        }
      ],
      "source": [
        "# Write your code here (5.3)\n",
        "labels = 'Consumer', 'Corporate', 'Home Office'\n",
        "sizes = [consumer, corporate, home_office]\n",
        "plt.pie(sizes, labels=labels, autopct='%1.1f%%')\n",
        "plt.show()"
      ]
    },
    {
      "cell_type": "markdown",
      "metadata": {
        "id": "nuAuxDR0lsOV"
      },
      "source": [
        "Answer for the question 5.4\n",
        "\n",
        "Ans: To see the proportion of customer Segment in superstore_order."
      ]
    },
    {
      "cell_type": "markdown",
      "metadata": {
        "id": "M8JtuN4ilsOV"
      },
      "source": [
        "6.\n",
        "- 6.1 List unique states\n",
        "- 6.2 List top-10 unique states and their corresponding count\n",
        "- 6.3 Create a bar chart (vertical) to demonstrate the count of top-10 unique states\n",
        "- 6.4 Based on 6.2, also include the total sales of these states (show your result as a dataframe)\n",
        "- 6.5 Using the result from 6.4, if you were the owner of this superstore, what information could be interpreted from this result?\n",
        "\n",
        "*Note: please create additional cells to answer 6.2 - 6.4*"
      ]
    },
    {
      "cell_type": "code",
      "execution_count": 128,
      "metadata": {
        "id": "0xNO_MkplsOV",
        "colab": {
          "base_uri": "https://localhost:8080/"
        },
        "outputId": "9d09b541-1eef-488c-9c17-2ecca53e71a8"
      },
      "outputs": [
        {
          "output_type": "execute_result",
          "data": {
            "text/plain": [
              "array(['Kentucky', 'California', 'Florida', 'North Carolina',\n",
              "       'Washington', 'Texas', 'Wisconsin', 'Utah', 'Nebraska',\n",
              "       'Pennsylvania', 'Illinois', 'Minnesota', 'Michigan', 'Delaware',\n",
              "       'Indiana', 'New York', 'Arizona', 'Virginia', 'Tennessee',\n",
              "       'Alabama', 'South Carolina', 'Oregon', 'Colorado', 'Iowa', 'Ohio',\n",
              "       'Missouri', 'Oklahoma', 'New Mexico', 'Louisiana', 'Connecticut',\n",
              "       'New Jersey', 'Massachusetts', 'Georgia', 'Nevada', 'Rhode Island',\n",
              "       'Mississippi', 'Arkansas', 'Montana', 'New Hampshire', 'Maryland',\n",
              "       'District of Columbia', 'Kansas', 'Vermont', 'Maine',\n",
              "       'South Dakota', 'Idaho', 'North Dakota', 'Wyoming',\n",
              "       'West Virginia'], dtype=object)"
            ]
          },
          "metadata": {},
          "execution_count": 128
        }
      ],
      "source": [
        "# Write your code here (6.1)\n",
        "superstore_order['State'].unique()"
      ]
    },
    {
      "cell_type": "code",
      "execution_count": 129,
      "metadata": {
        "id": "_nv_9546tmNU",
        "colab": {
          "base_uri": "https://localhost:8080/"
        },
        "outputId": "34931f55-6395-484f-b9bc-127400ba136a"
      },
      "outputs": [
        {
          "output_type": "execute_result",
          "data": {
            "text/plain": [
              "California        1754\n",
              "New York          1001\n",
              "Texas              860\n",
              "Pennsylvania       531\n",
              "Washington         452\n",
              "Illinois           427\n",
              "Ohio               396\n",
              "Florida            339\n",
              "Michigan           230\n",
              "North Carolina     229\n",
              "Name: State, dtype: int64"
            ]
          },
          "metadata": {},
          "execution_count": 129
        }
      ],
      "source": [
        "# Write your code here (6.2)\n",
        "df = superstore_order['State'].value_counts()[0:10]\n",
        "df"
      ]
    },
    {
      "cell_type": "code",
      "execution_count": 130,
      "metadata": {
        "id": "p4Rne_czt_6v",
        "colab": {
          "base_uri": "https://localhost:8080/",
          "height": 651
        },
        "outputId": "6ea35129-cb81-4c33-fbe0-e1ffdb1414c8"
      },
      "outputs": [
        {
          "output_type": "display_data",
          "data": {
            "text/plain": [
              "<Figure size 1000x600 with 1 Axes>"
            ],
            "image/png": "[encoded data removed]"
          },
          "metadata": {}
        }
      ],
      "source": [
        "# Write your code here (6.3)\n",
        "plt.figure(figsize=(10, 6))\n",
        "df.plot(kind='bar', color='skyblue')\n",
        "plt.title('Top 10 States in Superstore Orders')\n",
        "plt.xlabel('State')\n",
        "plt.ylabel('Number of Orders')\n",
        "plt.show()"
      ]
    },
    {
      "cell_type": "code",
      "execution_count": 131,
      "metadata": {
        "id": "BXTF2ginvl-h",
        "colab": {
          "base_uri": "https://localhost:8080/"
        },
        "outputId": "141ca6be-f7c3-40be-a9da-e7a9319130da"
      },
      "outputs": [
        {
          "output_type": "stream",
          "name": "stdout",
          "text": [
            "            State  Count  Total Sales\n",
            "0      California   1754  399195.4555\n",
            "1        New York   1001  274866.8190\n",
            "2           Texas    860  147855.0282\n",
            "3    Pennsylvania    531  103852.5210\n",
            "4      Washington    452  124497.7780\n",
            "5        Illinois    427   71456.1780\n",
            "6            Ohio    396   67924.2140\n",
            "7         Florida    339   84083.0880\n",
            "8        Michigan    230   62147.6960\n",
            "9  North Carolina    229   49962.1580\n"
          ]
        }
      ],
      "source": [
        "# Write your code here (6.4)\n",
        "df1 = superstore_order\n",
        "top_states = df1['State'].value_counts().head(10)\n",
        "\n",
        "total_sales = []\n",
        "state_names = top_states.index\n",
        "\n",
        "for state in state_names:\n",
        "    sales_sum = df1[df1['State'] == state]['Sales'].sum()\n",
        "    total_sales.append(sales_sum)\n",
        "\n",
        "result_df = pd.DataFrame({\n",
        "    'State': state_names,\n",
        "    'Count': top_states.values,\n",
        "    'Total Sales': total_sales\n",
        "})\n",
        "\n",
        "print(result_df)\n"
      ]
    },
    {
      "cell_type": "markdown",
      "metadata": {
        "id": "YTzh3uKHlsOV"
      },
      "source": [
        "Answer for the question 6.5\n",
        "\n",
        "Ans: To see the top 10 state that our product can sell the most including total sales and count."
      ]
    },
    {
      "cell_type": "markdown",
      "metadata": {
        "id": "7z-DPoc6lsOV"
      },
      "source": [
        "7.\n",
        "- 7.1 List unique categories\n",
        "- 7.2 Create a bar chart (horizontal) to demonstrate the proportion of these categories\n",
        "- 7.3 Compute the ratio of these categories in percentage and print the results\n",
        "\n",
        "*Note: please create additional cells to answer 7.2 - 7.3*"
      ]
    },
    {
      "cell_type": "code",
      "execution_count": 132,
      "metadata": {
        "id": "Va8Nk3HFlsOV",
        "colab": {
          "base_uri": "https://localhost:8080/"
        },
        "outputId": "db87f954-0914-47f9-dee6-921eeb66bdc1"
      },
      "outputs": [
        {
          "output_type": "execute_result",
          "data": {
            "text/plain": [
              "array(['Furniture', 'Office Supplies', 'Technology'], dtype=object)"
            ]
          },
          "metadata": {},
          "execution_count": 132
        }
      ],
      "source": [
        "# Write your code here (7.1)\n",
        "df2 = superstore_order[\"Category\"].unique()\n",
        "df2"
      ]
    },
    {
      "cell_type": "code",
      "execution_count": 133,
      "metadata": {
        "id": "Nq4xSwr3y_qy",
        "colab": {
          "base_uri": "https://localhost:8080/",
          "height": 585
        },
        "outputId": "d6fd6ea7-f0ee-4d13-8c83-b3a0661a6ec4"
      },
      "outputs": [
        {
          "output_type": "display_data",
          "data": {
            "text/plain": [
              "<Figure size 1000x600 with 1 Axes>"
            ],
            "image/png": "[encoded data removed]"
          },
          "metadata": {}
        }
      ],
      "source": [
        "# Write your code here (7.2)\n",
        "list2 = superstore_order[\"Category\"].value_counts()\n",
        "\n",
        "plt.figure(figsize=(10, 6))\n",
        "plt.barh(y=list2.index, width=list2.values, color='skyblue')\n",
        "plt.ylabel('Category')\n",
        "plt.xlabel('Count')\n",
        "plt.title('Count of Orders by Category')\n",
        "plt.xticks(rotation=45, ha='right')\n",
        "plt.show()"
      ]
    },
    {
      "cell_type": "code",
      "execution_count": 134,
      "metadata": {
        "id": "E9NkpvS01tvd",
        "colab": {
          "base_uri": "https://localhost:8080/"
        },
        "outputId": "0071c5c9-c2b8-4abe-d100-b8dfed058b82"
      },
      "outputs": [
        {
          "output_type": "stream",
          "name": "stdout",
          "text": [
            "Technology: 18.46846846846847%, Furniture: 21.17117117117117%, Office Supplies: 60.36036036036037%\n"
          ]
        }
      ],
      "source": [
        "# list2.values\n",
        "print(f\"Technology: {list2.values[2]/list2.values.sum()*100}%, Furniture: {list2.values[1]/list2.values.sum()*100}%, Office Supplies: {list2.values[0]/list2.values.sum()*100}%\")\n"
      ]
    },
    {
      "cell_type": "markdown",
      "metadata": {
        "id": "K0t6WJ-FlsOW"
      },
      "source": [
        "8. Update the type of all columns that contain dates to *datetime* and show information after an update."
      ]
    },
    {
      "cell_type": "code",
      "execution_count": 135,
      "metadata": {
        "id": "jIsebDmBlsOW",
        "colab": {
          "base_uri": "https://localhost:8080/",
          "height": 424
        },
        "outputId": "81878b95-b754-4907-a9ad-1a6b80555817"
      },
      "outputs": [
        {
          "output_type": "execute_result",
          "data": {
            "text/plain": [
              "     Order Date  Ship Date\n",
              "0    2016-11-08 2016-11-11\n",
              "1    2016-11-08 2016-11-11\n",
              "2    2016-06-12 2016-06-16\n",
              "3    2015-10-11 2015-10-18\n",
              "4    2015-10-11 2015-10-18\n",
              "...         ...        ...\n",
              "8875 2016-08-13 2016-08-19\n",
              "8876 2016-08-13 2016-08-19\n",
              "8877 2017-09-17 2017-09-23\n",
              "8878 2017-09-17 2017-09-23\n",
              "8879 2015-03-23 2015-03-25\n",
              "\n",
              "[8880 rows x 2 columns]"
            ],
            "text/html": [
              "\n",
              "  <div id=\"df-fc88ecd8-eb69-49a5-ab29-05f60c2973f2\" class=\"colab-df-container\">\n",
              "    <div>\n",
              "<style scoped>\n",
              "    .dataframe tbody tr th:only-of-type {\n",
              "        vertical-align: middle;\n",
              "    }\n",
              "\n",
              "    .dataframe tbody tr th {\n",
              "        vertical-align: top;\n",
              "    }\n",
              "\n",
              "    .dataframe thead th {\n",
              "        text-align: right;\n",
              "    }\n",
              "</style>\n",
              "<table border=\"1\" class=\"dataframe\">\n",
              "  <thead>\n",
              "    <tr style=\"text-align: right;\">\n",
              "      <th></th>\n",
              "      <th>Order Date</th>\n",
              "      <th>Ship Date</th>\n",
              "    </tr>\n",
              "  </thead>\n",
              "  <tbody>\n",
              "    <tr>\n",
              "      <th>0</th>\n",
              "      <td>2016-11-08</td>\n",
              "      <td>2016-11-11</td>\n",
              "    </tr>\n",
              "    <tr>\n",
              "      <th>1</th>\n",
              "      <td>2016-11-08</td>\n",
              "      <td>2016-11-11</td>\n",
              "    </tr>\n",
              "    <tr>\n",
              "      <th>2</th>\n",
              "      <td>2016-06-12</td>\n",
              "      <td>2016-06-16</td>\n",
              "    </tr>\n",
              "    <tr>\n",
              "      <th>3</th>\n",
              "      <td>2015-10-11</td>\n",
              "      <td>2015-10-18</td>\n",
              "    </tr>\n",
              "    <tr>\n",
              "      <th>4</th>\n",
              "      <td>2015-10-11</td>\n",
              "      <td>2015-10-18</td>\n",
              "    </tr>\n",
              "    <tr>\n",
              "      <th>...</th>\n",
              "      <td>...</td>\n",
              "      <td>...</td>\n",
              "    </tr>\n",
              "    <tr>\n",
              "      <th>8875</th>\n",
              "      <td>2016-08-13</td>\n",
              "      <td>2016-08-19</td>\n",
              "    </tr>\n",
              "    <tr>\n",
              "      <th>8876</th>\n",
              "      <td>2016-08-13</td>\n",
              "      <td>2016-08-19</td>\n",
              "    </tr>\n",
              "    <tr>\n",
              "      <th>8877</th>\n",
              "      <td>2017-09-17</td>\n",
              "      <td>2017-09-23</td>\n",
              "    </tr>\n",
              "    <tr>\n",
              "      <th>8878</th>\n",
              "      <td>2017-09-17</td>\n",
              "      <td>2017-09-23</td>\n",
              "    </tr>\n",
              "    <tr>\n",
              "      <th>8879</th>\n",
              "      <td>2015-03-23</td>\n",
              "      <td>2015-03-25</td>\n",
              "    </tr>\n",
              "  </tbody>\n",
              "</table>\n",
              "<p>8880 rows × 2 columns</p>\n",
              "</div>\n",
              "    <div class=\"colab-df-buttons\">\n",
              "\n",
              "  <div class=\"colab-df-container\">\n",
              "    <button class=\"colab-df-convert\" onclick=\"convertToInteractive('df-fc88ecd8-eb69-49a5-ab29-05f60c2973f2')\"\n",
              "            title=\"Convert this dataframe to an interactive table.\"\n",
              "            style=\"display:none;\">\n",
              "\n",
              "  <svg xmlns=\"http://www.w3.org/2000/svg\" height=\"24px\" viewBox=\"0 -960 960 960\">\n",
              "    <path d=\"M120-120v-720h720v720H120Zm60-500h600v-160H180v160Zm220 220h160v-160H400v160Zm0 220h160v-160H400v160ZM180-400h160v-160H180v160Zm440 0h160v-160H620v160ZM180-180h160v-160H180v160Zm440 0h160v-160H620v160Z\"/>\n",
              "  </svg>\n",
              "    </button>\n",
              "\n",
              "  <style>\n",
              "    .colab-df-container {\n",
              "      display:flex;\n",
              "      gap: 12px;\n",
              "    }\n",
              "\n",
              "    .colab-df-convert {\n",
              "      background-color: #E8F0FE;\n",
              "      border: none;\n",
              "      border-radius: 50%;\n",
              "      cursor: pointer;\n",
              "      display: none;\n",
              "      fill: #1967D2;\n",
              "      height: 32px;\n",
              "      padding: 0 0 0 0;\n",
              "      width: 32px;\n",
              "    }\n",
              "\n",
              "    .colab-df-convert:hover {\n",
              "      background-color: #E2EBFA;\n",
              "      box-shadow: 0px 1px 2px rgba(60, 64, 67, 0.3), 0px 1px 3px 1px rgba(60, 64, 67, 0.15);\n",
              "      fill: #174EA6;\n",
              "    }\n",
              "\n",
              "    .colab-df-buttons div {\n",
              "      margin-bottom: 4px;\n",
              "    }\n",
              "\n",
              "    [theme=dark] .colab-df-convert {\n",
              "      background-color: #3B4455;\n",
              "      fill: #D2E3FC;\n",
              "    }\n",
              "\n",
              "    [theme=dark] .colab-df-convert:hover {\n",
              "      background-color: #434B5C;\n",
              "      box-shadow: 0px 1px 3px 1px rgba(0, 0, 0, 0.15);\n",
              "      filter: drop-shadow(0px 1px 2px rgba(0, 0, 0, 0.3));\n",
              "      fill: #FFFFFF;\n",
              "    }\n",
              "  </style>\n",
              "\n",
              "    <script>\n",
              "      const buttonEl =\n",
              "        document.querySelector('#df-fc88ecd8-eb69-49a5-ab29-05f60c2973f2 button.colab-df-convert');\n",
              "      buttonEl.style.display =\n",
              "        google.colab.kernel.accessAllowed ? 'block' : 'none';\n",
              "\n",
              "      async function convertToInteractive(key) {\n",
              "        const element = document.querySelector('#df-fc88ecd8-eb69-49a5-ab29-05f60c2973f2');\n",
              "        const dataTable =\n",
              "          await google.colab.kernel.invokeFunction('convertToInteractive',\n",
              "                                                    [key], {});\n",
              "        if (!dataTable) return;\n",
              "\n",
              "        const docLinkHtml = 'Like what you see? Visit the ' +\n",
              "          '<a target=\"_blank\" href=https://colab.research.google.com/notebooks/data_table.ipynb>data table notebook</a>'\n",
              "          + ' to learn more about interactive tables.';\n",
              "        element.innerHTML = '';\n",
              "        dataTable['output_type'] = 'display_data';\n",
              "        await google.colab.output.renderOutput(dataTable, element);\n",
              "        const docLink = document.createElement('div');\n",
              "        docLink.innerHTML = docLinkHtml;\n",
              "        element.appendChild(docLink);\n",
              "      }\n",
              "    </script>\n",
              "  </div>\n",
              "\n",
              "\n",
              "<div id=\"df-a89e2eff-882b-4bc6-ab07-b9484ec01e67\">\n",
              "  <button class=\"colab-df-quickchart\" onclick=\"quickchart('df-a89e2eff-882b-4bc6-ab07-b9484ec01e67')\"\n",
              "            title=\"Suggest charts\"\n",
              "            style=\"display:none;\">\n",
              "\n",
              "<svg xmlns=\"http://www.w3.org/2000/svg\" height=\"24px\"viewBox=\"0 0 24 24\"\n",
              "     width=\"24px\">\n",
              "    <g>\n",
              "        <path d=\"M19 3H5c-1.1 0-2 .9-2 2v14c0 1.1.9 2 2 2h14c1.1 0 2-.9 2-2V5c0-1.1-.9-2-2-2zM9 17H7v-7h2v7zm4 0h-2V7h2v10zm4 0h-2v-4h2v4z\"/>\n",
              "    </g>\n",
              "</svg>\n",
              "  </button>\n",
              "\n",
              "<style>\n",
              "  .colab-df-quickchart {\n",
              "      --bg-color: #E8F0FE;\n",
              "      --fill-color: #1967D2;\n",
              "      --hover-bg-color: #E2EBFA;\n",
              "      --hover-fill-color: #174EA6;\n",
              "      --disabled-fill-color: #AAA;\n",
              "      --disabled-bg-color: #DDD;\n",
              "  }\n",
              "\n",
              "  [theme=dark] .colab-df-quickchart {\n",
              "      --bg-color: #3B4455;\n",
              "      --fill-color: #D2E3FC;\n",
              "      --hover-bg-color: #434B5C;\n",
              "      --hover-fill-color: #FFFFFF;\n",
              "      --disabled-bg-color: #3B4455;\n",
              "      --disabled-fill-color: #666;\n",
              "  }\n",
              "\n",
              "  .colab-df-quickchart {\n",
              "    background-color: var(--bg-color);\n",
              "    border: none;\n",
              "    border-radius: 50%;\n",
              "    cursor: pointer;\n",
              "    display: none;\n",
              "    fill: var(--fill-color);\n",
              "    height: 32px;\n",
              "    padding: 0;\n",
              "    width: 32px;\n",
              "  }\n",
              "\n",
              "  .colab-df-quickchart:hover {\n",
              "    background-color: var(--hover-bg-color);\n",
              "    box-shadow: 0 1px 2px rgba(60, 64, 67, 0.3), 0 1px 3px 1px rgba(60, 64, 67, 0.15);\n",
              "    fill: var(--button-hover-fill-color);\n",
              "  }\n",
              "\n",
              "  .colab-df-quickchart-complete:disabled,\n",
              "  .colab-df-quickchart-complete:disabled:hover {\n",
              "    background-color: var(--disabled-bg-color);\n",
              "    fill: var(--disabled-fill-color);\n",
              "    box-shadow: none;\n",
              "  }\n",
              "\n",
              "  .colab-df-spinner {\n",
              "    border: 2px solid var(--fill-color);\n",
              "    border-color: transparent;\n",
              "    border-bottom-color: var(--fill-color);\n",
              "    animation:\n",
              "      spin 1s steps(1) infinite;\n",
              "  }\n",
              "\n",
              "  @keyframes spin {\n",
              "    0% {\n",
              "      border-color: transparent;\n",
              "      border-bottom-color: var(--fill-color);\n",
              "      border-left-color: var(--fill-color);\n",
              "    }\n",
              "    20% {\n",
              "      border-color: transparent;\n",
              "      border-left-color: var(--fill-color);\n",
              "      border-top-color: var(--fill-color);\n",
              "    }\n",
              "    30% {\n",
              "      border-color: transparent;\n",
              "      border-left-color: var(--fill-color);\n",
              "      border-top-color: var(--fill-color);\n",
              "      border-right-color: var(--fill-color);\n",
              "    }\n",
              "    40% {\n",
              "      border-color: transparent;\n",
              "      border-right-color: var(--fill-color);\n",
              "      border-top-color: var(--fill-color);\n",
              "    }\n",
              "    60% {\n",
              "      border-color: transparent;\n",
              "      border-right-color: var(--fill-color);\n",
              "    }\n",
              "    80% {\n",
              "      border-color: transparent;\n",
              "      border-right-color: var(--fill-color);\n",
              "      border-bottom-color: var(--fill-color);\n",
              "    }\n",
              "    90% {\n",
              "      border-color: transparent;\n",
              "      border-bottom-color: var(--fill-color);\n",
              "    }\n",
              "  }\n",
              "</style>\n",
              "\n",
              "  <script>\n",
              "    async function quickchart(key) {\n",
              "      const quickchartButtonEl =\n",
              "        document.querySelector('#' + key + ' button');\n",
              "      quickchartButtonEl.disabled = true;  // To prevent multiple clicks.\n",
              "      quickchartButtonEl.classList.add('colab-df-spinner');\n",
              "      try {\n",
              "        const charts = await google.colab.kernel.invokeFunction(\n",
              "            'suggestCharts', [key], {});\n",
              "      } catch (error) {\n",
              "        console.error('Error during call to suggestCharts:', error);\n",
              "      }\n",
              "      quickchartButtonEl.classList.remove('colab-df-spinner');\n",
              "      quickchartButtonEl.classList.add('colab-df-quickchart-complete');\n",
              "    }\n",
              "    (() => {\n",
              "      let quickchartButtonEl =\n",
              "        document.querySelector('#df-a89e2eff-882b-4bc6-ab07-b9484ec01e67 button');\n",
              "      quickchartButtonEl.style.display =\n",
              "        google.colab.kernel.accessAllowed ? 'block' : 'none';\n",
              "    })();\n",
              "  </script>\n",
              "</div>\n",
              "    </div>\n",
              "  </div>\n"
            ]
          },
          "metadata": {},
          "execution_count": 135
        }
      ],
      "source": [
        "# write your code here\n",
        "superstore_order = pd.read_csv(\"/content/Superstore/superstore_order.csv\")\n",
        "superstore_order[\"Order Date\"] = pd.to_datetime(superstore_order[\"Order Date\"], format='%d/%m/%Y', errors='coerce')\n",
        "superstore_order[\"Ship Date\"] = pd.to_datetime(superstore_order[\"Ship Date\"], format='%d/%m/%Y', errors='coerce')\n",
        "superstore_order[[\"Order Date\", \"Ship Date\"]]"
      ]
    },
    {
      "cell_type": "markdown",
      "metadata": {
        "id": "VIfX5QRjlsOW"
      },
      "source": [
        "9. Create a new column \"Processing time day\" to show number of days taken to ship an order and show your result in a dataframe format.\n",
        "\n",
        "*Hint: The duration starts as soon as the item has been ordered and ends once the order has successfully shipped.*"
      ]
    },
    {
      "cell_type": "code",
      "execution_count": 136,
      "metadata": {
        "id": "x33KPz2qlsOW",
        "colab": {
          "base_uri": "https://localhost:8080/"
        },
        "outputId": "bb669bbd-f41e-4734-f48d-44bac8d1ab92"
      },
      "outputs": [
        {
          "output_type": "stream",
          "name": "stdout",
          "text": [
            "     Order Date  Ship Date  Processing time day\n",
            "0    2016-11-08 2016-11-11                    3\n",
            "1    2016-11-08 2016-11-11                    3\n",
            "2    2016-06-12 2016-06-16                    4\n",
            "3    2015-10-11 2015-10-18                    7\n",
            "4    2015-10-11 2015-10-18                    7\n",
            "...         ...        ...                  ...\n",
            "8875 2016-08-13 2016-08-19                    6\n",
            "8876 2016-08-13 2016-08-19                    6\n",
            "8877 2017-09-17 2017-09-23                    6\n",
            "8878 2017-09-17 2017-09-23                    6\n",
            "8879 2015-03-23 2015-03-25                    2\n",
            "\n",
            "[8880 rows x 3 columns]\n"
          ]
        }
      ],
      "source": [
        "superstore_order['Order Date'] = pd.to_datetime(superstore_order['Order Date'])\n",
        "superstore_order['Ship Date'] = pd.to_datetime(superstore_order['Ship Date'])\n",
        "\n",
        "\n",
        "superstore_order[\"Processing time day\"] = (superstore_order['Ship Date'] - superstore_order['Order Date']).dt.days\n",
        "\n",
        "result_df = superstore_order[['Order Date', 'Ship Date', 'Processing time day']]\n",
        "print(result_df)"
      ]
    },
    {
      "cell_type": "markdown",
      "metadata": {
        "id": "GwKmMdZ8lsOW"
      },
      "source": [
        "10. Based on the result in 9.\n",
        "- 10.1 How many orders are there that take more than 5 days to process?\n",
        "- 10.2 Show the top 5 rows (expected output should contain these columns: Order ID, Order Date, Ship Date, Processing time day, Quantity)\n",
        "- 10.3 Plot the histogram based on the column Quantity\n",
        "\n",
        "*Note: please create additional cells to answer 10.2 - 10.3*"
      ]
    },
    {
      "cell_type": "code",
      "execution_count": 137,
      "metadata": {
        "id": "8_E4YmdplsOW",
        "colab": {
          "base_uri": "https://localhost:8080/"
        },
        "outputId": "9cb14404-aabd-4543-935c-33714f6d51d9"
      },
      "outputs": [
        {
          "output_type": "stream",
          "name": "stdout",
          "text": [
            "Number of orders that take more than 5 days: 1656 orders\n"
          ]
        }
      ],
      "source": [
        "# Write your code here (10.1)\n",
        "print(f\"Number of orders that take more than 5 days: {result_df[result_df['Processing time day'] > 5]['Order Date'].count()} orders\")"
      ]
    },
    {
      "cell_type": "code",
      "execution_count": 138,
      "metadata": {
        "id": "Xc3HeUJh9dWO",
        "colab": {
          "base_uri": "https://localhost:8080/",
          "height": 206
        },
        "outputId": "0ee02416-89f8-4ac2-e14b-962d729faf42"
      },
      "outputs": [
        {
          "output_type": "execute_result",
          "data": {
            "text/plain": [
              "         Order ID Order Date  Ship Date  Processing time day  Quantity\n",
              "0  CA-2016-152156 2016-11-08 2016-11-11                    3         2\n",
              "1  CA-2016-152156 2016-11-08 2016-11-11                    3         3\n",
              "2  CA-2016-138688 2016-06-12 2016-06-16                    4         2\n",
              "3  US-2015-108966 2015-10-11 2015-10-18                    7         5\n",
              "4  US-2015-108966 2015-10-11 2015-10-18                    7         2"
            ],
            "text/html": [
              "\n",
              "  <div id=\"df-08b319a6-a866-4004-968e-45e6d73930a4\" class=\"colab-df-container\">\n",
              "    <div>\n",
              "<style scoped>\n",
              "    .dataframe tbody tr th:only-of-type {\n",
              "        vertical-align: middle;\n",
              "    }\n",
              "\n",
              "    .dataframe tbody tr th {\n",
              "        vertical-align: top;\n",
              "    }\n",
              "\n",
              "    .dataframe thead th {\n",
              "        text-align: right;\n",
              "    }\n",
              "</style>\n",
              "<table border=\"1\" class=\"dataframe\">\n",
              "  <thead>\n",
              "    <tr style=\"text-align: right;\">\n",
              "      <th></th>\n",
              "      <th>Order ID</th>\n",
              "      <th>Order Date</th>\n",
              "      <th>Ship Date</th>\n",
              "      <th>Processing time day</th>\n",
              "      <th>Quantity</th>\n",
              "    </tr>\n",
              "  </thead>\n",
              "  <tbody>\n",
              "    <tr>\n",
              "      <th>0</th>\n",
              "      <td>CA-2016-152156</td>\n",
              "      <td>2016-11-08</td>\n",
              "      <td>2016-11-11</td>\n",
              "      <td>3</td>\n",
              "      <td>2</td>\n",
              "    </tr>\n",
              "    <tr>\n",
              "      <th>1</th>\n",
              "      <td>CA-2016-152156</td>\n",
              "      <td>2016-11-08</td>\n",
              "      <td>2016-11-11</td>\n",
              "      <td>3</td>\n",
              "      <td>3</td>\n",
              "    </tr>\n",
              "    <tr>\n",
              "      <th>2</th>\n",
              "      <td>CA-2016-138688</td>\n",
              "      <td>2016-06-12</td>\n",
              "      <td>2016-06-16</td>\n",
              "      <td>4</td>\n",
              "      <td>2</td>\n",
              "    </tr>\n",
              "    <tr>\n",
              "      <th>3</th>\n",
              "      <td>US-2015-108966</td>\n",
              "      <td>2015-10-11</td>\n",
              "      <td>2015-10-18</td>\n",
              "      <td>7</td>\n",
              "      <td>5</td>\n",
              "    </tr>\n",
              "    <tr>\n",
              "      <th>4</th>\n",
              "      <td>US-2015-108966</td>\n",
              "      <td>2015-10-11</td>\n",
              "      <td>2015-10-18</td>\n",
              "      <td>7</td>\n",
              "      <td>2</td>\n",
              "    </tr>\n",
              "  </tbody>\n",
              "</table>\n",
              "</div>\n",
              "    <div class=\"colab-df-buttons\">\n",
              "\n",
              "  <div class=\"colab-df-container\">\n",
              "    <button class=\"colab-df-convert\" onclick=\"convertToInteractive('df-08b319a6-a866-4004-968e-45e6d73930a4')\"\n",
              "            title=\"Convert this dataframe to an interactive table.\"\n",
              "            style=\"display:none;\">\n",
              "\n",
              "  <svg xmlns=\"http://www.w3.org/2000/svg\" height=\"24px\" viewBox=\"0 -960 960 960\">\n",
              "    <path d=\"M120-120v-720h720v720H120Zm60-500h600v-160H180v160Zm220 220h160v-160H400v160Zm0 220h160v-160H400v160ZM180-400h160v-160H180v160Zm440 0h160v-160H620v160ZM180-180h160v-160H180v160Zm440 0h160v-160H620v160Z\"/>\n",
              "  </svg>\n",
              "    </button>\n",
              "\n",
              "  <style>\n",
              "    .colab-df-container {\n",
              "      display:flex;\n",
              "      gap: 12px;\n",
              "    }\n",
              "\n",
              "    .colab-df-convert {\n",
              "      background-color: #E8F0FE;\n",
              "      border: none;\n",
              "      border-radius: 50%;\n",
              "      cursor: pointer;\n",
              "      display: none;\n",
              "      fill: #1967D2;\n",
              "      height: 32px;\n",
              "      padding: 0 0 0 0;\n",
              "      width: 32px;\n",
              "    }\n",
              "\n",
              "    .colab-df-convert:hover {\n",
              "      background-color: #E2EBFA;\n",
              "      box-shadow: 0px 1px 2px rgba(60, 64, 67, 0.3), 0px 1px 3px 1px rgba(60, 64, 67, 0.15);\n",
              "      fill: #174EA6;\n",
              "    }\n",
              "\n",
              "    .colab-df-buttons div {\n",
              "      margin-bottom: 4px;\n",
              "    }\n",
              "\n",
              "    [theme=dark] .colab-df-convert {\n",
              "      background-color: #3B4455;\n",
              "      fill: #D2E3FC;\n",
              "    }\n",
              "\n",
              "    [theme=dark] .colab-df-convert:hover {\n",
              "      background-color: #434B5C;\n",
              "      box-shadow: 0px 1px 3px 1px rgba(0, 0, 0, 0.15);\n",
              "      filter: drop-shadow(0px 1px 2px rgba(0, 0, 0, 0.3));\n",
              "      fill: #FFFFFF;\n",
              "    }\n",
              "  </style>\n",
              "\n",
              "    <script>\n",
              "      const buttonEl =\n",
              "        document.querySelector('#df-08b319a6-a866-4004-968e-45e6d73930a4 button.colab-df-convert');\n",
              "      buttonEl.style.display =\n",
              "        google.colab.kernel.accessAllowed ? 'block' : 'none';\n",
              "\n",
              "      async function convertToInteractive(key) {\n",
              "        const element = document.querySelector('#df-08b319a6-a866-4004-968e-45e6d73930a4');\n",
              "        const dataTable =\n",
              "          await google.colab.kernel.invokeFunction('convertToInteractive',\n",
              "                                                    [key], {});\n",
              "        if (!dataTable) return;\n",
              "\n",
              "        const docLinkHtml = 'Like what you see? Visit the ' +\n",
              "          '<a target=\"_blank\" href=https://colab.research.google.com/notebooks/data_table.ipynb>data table notebook</a>'\n",
              "          + ' to learn more about interactive tables.';\n",
              "        element.innerHTML = '';\n",
              "        dataTable['output_type'] = 'display_data';\n",
              "        await google.colab.output.renderOutput(dataTable, element);\n",
              "        const docLink = document.createElement('div');\n",
              "        docLink.innerHTML = docLinkHtml;\n",
              "        element.appendChild(docLink);\n",
              "      }\n",
              "    </script>\n",
              "  </div>\n",
              "\n",
              "\n",
              "<div id=\"df-35538d92-0eb1-4f73-bb4e-1dd3e233d2fc\">\n",
              "  <button class=\"colab-df-quickchart\" onclick=\"quickchart('df-35538d92-0eb1-4f73-bb4e-1dd3e233d2fc')\"\n",
              "            title=\"Suggest charts\"\n",
              "            style=\"display:none;\">\n",
              "\n",
              "<svg xmlns=\"http://www.w3.org/2000/svg\" height=\"24px\"viewBox=\"0 0 24 24\"\n",
              "     width=\"24px\">\n",
              "    <g>\n",
              "        <path d=\"M19 3H5c-1.1 0-2 .9-2 2v14c0 1.1.9 2 2 2h14c1.1 0 2-.9 2-2V5c0-1.1-.9-2-2-2zM9 17H7v-7h2v7zm4 0h-2V7h2v10zm4 0h-2v-4h2v4z\"/>\n",
              "    </g>\n",
              "</svg>\n",
              "  </button>\n",
              "\n",
              "<style>\n",
              "  .colab-df-quickchart {\n",
              "      --bg-color: #E8F0FE;\n",
              "      --fill-color: #1967D2;\n",
              "      --hover-bg-color: #E2EBFA;\n",
              "      --hover-fill-color: #174EA6;\n",
              "      --disabled-fill-color: #AAA;\n",
              "      --disabled-bg-color: #DDD;\n",
              "  }\n",
              "\n",
              "  [theme=dark] .colab-df-quickchart {\n",
              "      --bg-color: #3B4455;\n",
              "      --fill-color: #D2E3FC;\n",
              "      --hover-bg-color: #434B5C;\n",
              "      --hover-fill-color: #FFFFFF;\n",
              "      --disabled-bg-color: #3B4455;\n",
              "      --disabled-fill-color: #666;\n",
              "  }\n",
              "\n",
              "  .colab-df-quickchart {\n",
              "    background-color: var(--bg-color);\n",
              "    border: none;\n",
              "    border-radius: 50%;\n",
              "    cursor: pointer;\n",
              "    display: none;\n",
              "    fill: var(--fill-color);\n",
              "    height: 32px;\n",
              "    padding: 0;\n",
              "    width: 32px;\n",
              "  }\n",
              "\n",
              "  .colab-df-quickchart:hover {\n",
              "    background-color: var(--hover-bg-color);\n",
              "    box-shadow: 0 1px 2px rgba(60, 64, 67, 0.3), 0 1px 3px 1px rgba(60, 64, 67, 0.15);\n",
              "    fill: var(--button-hover-fill-color);\n",
              "  }\n",
              "\n",
              "  .colab-df-quickchart-complete:disabled,\n",
              "  .colab-df-quickchart-complete:disabled:hover {\n",
              "    background-color: var(--disabled-bg-color);\n",
              "    fill: var(--disabled-fill-color);\n",
              "    box-shadow: none;\n",
              "  }\n",
              "\n",
              "  .colab-df-spinner {\n",
              "    border: 2px solid var(--fill-color);\n",
              "    border-color: transparent;\n",
              "    border-bottom-color: var(--fill-color);\n",
              "    animation:\n",
              "      spin 1s steps(1) infinite;\n",
              "  }\n",
              "\n",
              "  @keyframes spin {\n",
              "    0% {\n",
              "      border-color: transparent;\n",
              "      border-bottom-color: var(--fill-color);\n",
              "      border-left-color: var(--fill-color);\n",
              "    }\n",
              "    20% {\n",
              "      border-color: transparent;\n",
              "      border-left-color: var(--fill-color);\n",
              "      border-top-color: var(--fill-color);\n",
              "    }\n",
              "    30% {\n",
              "      border-color: transparent;\n",
              "      border-left-color: var(--fill-color);\n",
              "      border-top-color: var(--fill-color);\n",
              "      border-right-color: var(--fill-color);\n",
              "    }\n",
              "    40% {\n",
              "      border-color: transparent;\n",
              "      border-right-color: var(--fill-color);\n",
              "      border-top-color: var(--fill-color);\n",
              "    }\n",
              "    60% {\n",
              "      border-color: transparent;\n",
              "      border-right-color: var(--fill-color);\n",
              "    }\n",
              "    80% {\n",
              "      border-color: transparent;\n",
              "      border-right-color: var(--fill-color);\n",
              "      border-bottom-color: var(--fill-color);\n",
              "    }\n",
              "    90% {\n",
              "      border-color: transparent;\n",
              "      border-bottom-color: var(--fill-color);\n",
              "    }\n",
              "  }\n",
              "</style>\n",
              "\n",
              "  <script>\n",
              "    async function quickchart(key) {\n",
              "      const quickchartButtonEl =\n",
              "        document.querySelector('#' + key + ' button');\n",
              "      quickchartButtonEl.disabled = true;  // To prevent multiple clicks.\n",
              "      quickchartButtonEl.classList.add('colab-df-spinner');\n",
              "      try {\n",
              "        const charts = await google.colab.kernel.invokeFunction(\n",
              "            'suggestCharts', [key], {});\n",
              "      } catch (error) {\n",
              "        console.error('Error during call to suggestCharts:', error);\n",
              "      }\n",
              "      quickchartButtonEl.classList.remove('colab-df-spinner');\n",
              "      quickchartButtonEl.classList.add('colab-df-quickchart-complete');\n",
              "    }\n",
              "    (() => {\n",
              "      let quickchartButtonEl =\n",
              "        document.querySelector('#df-35538d92-0eb1-4f73-bb4e-1dd3e233d2fc button');\n",
              "      quickchartButtonEl.style.display =\n",
              "        google.colab.kernel.accessAllowed ? 'block' : 'none';\n",
              "    })();\n",
              "  </script>\n",
              "</div>\n",
              "    </div>\n",
              "  </div>\n"
            ]
          },
          "metadata": {},
          "execution_count": 138
        }
      ],
      "source": [
        "# Write your code here (10.2)\n",
        "superstore_order[[\"Order ID\", \"Order Date\", \"Ship Date\", \"Processing time day\", \"Quantity\"]].head()"
      ]
    },
    {
      "cell_type": "code",
      "execution_count": 139,
      "metadata": {
        "id": "hkrBHvMr-F5Q",
        "colab": {
          "base_uri": "https://localhost:8080/",
          "height": 410
        },
        "outputId": "ce508097-bce0-4ca2-e41a-019de8cf63e3"
      },
      "outputs": [
        {
          "output_type": "display_data",
          "data": {
            "text/plain": [
              "<Figure size 1000x400 with 1 Axes>"
            ],
            "image/png": "[encoded data removed]"
          },
          "metadata": {}
        }
      ],
      "source": [
        "# Write your code here (10.3)\n",
        "plt.figure(figsize=(10,4))\n",
        "plt.hist(x=superstore_order[\"Quantity\"], bins=30)\n",
        "plt.xlabel(\"Quantity\")\n",
        "plt.ylabel(\"Frequency\")\n",
        "plt.title(\"Quantity Histogram\")\n",
        "plt.show()"
      ]
    },
    {
      "cell_type": "markdown",
      "metadata": {
        "id": "AHTjZllolsOW"
      },
      "source": [
        "[BONUS 20 pts] Determine the percentage of customers who:\n",
        "- B1)returned the product once\n",
        "- B2) returned the product at least once\n",
        "- B3) never returned the product\n",
        "- Finally, Plot a comparison of B2 and B3\n",
        "\n",
        "*Note: please create additional cells to answer the above points*"
      ]
    },
    {
      "cell_type": "code",
      "execution_count": 147,
      "metadata": {
        "id": "CBMl4eRQ-FN4",
        "colab": {
          "base_uri": "https://localhost:8080/"
        },
        "outputId": "81d68776-6cdc-45bd-9efa-c290fade56ff"
      },
      "outputs": [
        {
          "output_type": "execute_result",
          "data": {
            "text/plain": [
              "Customer ID\n",
              "AA-10315    0.0\n",
              "AA-10375    0.0\n",
              "AA-10480    0.0\n",
              "AA-10645    1.0\n",
              "AB-10015    0.0\n",
              "           ... \n",
              "XP-21865    2.0\n",
              "YC-21895    1.0\n",
              "YS-21880    0.0\n",
              "ZC-21910    1.0\n",
              "ZD-21925    1.0\n",
              "Name: Returned, Length: 789, dtype: float64"
            ]
          },
          "metadata": {},
          "execution_count": 147
        }
      ],
      "source": [
        "#B1\n",
        "df1 = superstore_order\n",
        "df2 = superstore_return\n",
        "df1.drop_duplicates(subset='Order ID', keep='first', inplace=True)\n",
        "mergeDf = pd.merge(df1, df2, on='Order ID', how='left')\n",
        "\n",
        "mergeDf['Returned'] = mergeDf['Returned'].replace({'yes': 1, 'Yes':1})\n",
        "mergeDf['Returned'] = pd.to_numeric(mergeDf['Returned'])\n",
        "\n",
        "reCount = mergeDf.groupby('Customer ID')['Returned'].sum()\n",
        "reCount"
      ]
    },
    {
      "cell_type": "code",
      "source": [
        "customer_return_once = (reCount==1).sum()\n",
        "print(customer_return_once)"
      ],
      "metadata": {
        "colab": {
          "base_uri": "https://localhost:8080/"
        },
        "id": "5uAcQaHr6CG8",
        "outputId": "dc7ecf6b-3c5e-4b8a-af9e-bf92ce647090"
      },
      "execution_count": 153,
      "outputs": [
        {
          "output_type": "stream",
          "name": "stdout",
          "text": [
            "186\n"
          ]
        }
      ]
    },
    {
      "cell_type": "code",
      "execution_count": 154,
      "metadata": {
        "id": "NApN7DAJlsOW",
        "colab": {
          "base_uri": "https://localhost:8080/"
        },
        "outputId": "cb372414-b562-4bba-e866-87de91e53363"
      },
      "outputs": [
        {
          "output_type": "stream",
          "name": "stdout",
          "text": [
            "222\n"
          ]
        }
      ],
      "source": [
        "#B2\n",
        "customer_atleast_once = (reCount >= 1).sum()\n",
        "print(customer_atleast_once)"
      ]
    },
    {
      "cell_type": "code",
      "source": [
        "#B3\n",
        "customer_never_returned = (reCount == 0).sum()\n",
        "print(customer_never_returned)"
      ],
      "metadata": {
        "colab": {
          "base_uri": "https://localhost:8080/"
        },
        "id": "gmj2wAK3pxGu",
        "outputId": "1d025f60-0ca5-4621-ee20-63574430a969"
      },
      "execution_count": 155,
      "outputs": [
        {
          "output_type": "stream",
          "name": "stdout",
          "text": [
            "567\n"
          ]
        }
      ]
    },
    {
      "cell_type": "code",
      "source": [
        "plt.figure(figsize=(10, 6))\n",
        "plt.bar(['At least once', 'Never returned'], [(customer_atleast_once), (customer_never_returned)], color=['skyblue', 'salmon'])\n",
        "plt.title('Customer Return Analysis')\n",
        "plt.xlabel('Return Status')\n",
        "plt.ylabel('Number of Customers')\n",
        "plt.show()\n",
        "plt.figure(figsize=(10,6))\n",
        "plt.title(\"Pie Chart\")\n",
        "plt.pie(x=[customer_atleast_once, customer_never_returned], labels=['At least once', 'Never returned'], autopct='%.2f', explode=[0.05, 0])\n",
        "plt.show()"
      ],
      "metadata": {
        "id": "nAUfXTZ2rjVB",
        "colab": {
          "base_uri": "https://localhost:8080/",
          "height": 1000
        },
        "outputId": "d3df3e8b-2ad9-449a-ff1e-9e8ebdafa507"
      },
      "execution_count": 162,
      "outputs": [
        {
          "output_type": "display_data",
          "data": {
            "text/plain": [
              "<Figure size 1000x600 with 1 Axes>"
            ],
            "image/png": "[encoded data removed]"
          },
          "metadata": {}
        },
        {
          "output_type": "display_data",
          "data": {
            "text/plain": [
              "<Figure size 1000x600 with 1 Axes>"
            ],
            "image/png": "[encoded data removed]"
          },
          "metadata": {}
        }
      ]
    },
    {
      "cell_type": "code",
      "source": [],
      "metadata": {
        "id": "Cc6rLcrXtXnD"
      },
      "execution_count": 143,
      "outputs": []
    }
  ],
  "metadata": {
    "colab": {
      "provenance": []
    },
    "kernelspec": {
      "display_name": "Python 3.11.1 64-bit",
      "language": "python",
      "name": "python3"
    },
    "language_info": {
      "name": "python",
      "version": "3.11.1"
    },
    "vscode": {
      "interpreter": {
        "hash": "aee8b7b246df8f9039afb4144a1f6fd8d2ca17a180786b69acc140d282b71a49"
      }
    }
  },
  "nbformat": 4,
  "nbformat_minor": 0
}